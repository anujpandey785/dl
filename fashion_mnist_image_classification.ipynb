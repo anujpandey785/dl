{
 "cells": [
  {
   "cell_type": "code",
   "execution_count": 1,
   "id": "f80d9b6a",
   "metadata": {},
   "outputs": [],
   "source": [
    "import numpy as np\n",
    "import tensorflow as tf\n",
    "import tensorflow.keras.layers as tfl\n",
    "import matplotlib.pyplot as plt\n",
    "import seaborn as sns\n",
    "from sklearn.preprocessing import LabelBinarizer\n",
    "from sklearn.metrics import classification_report\n",
    "sns.set()\n",
    "%matplotlib inline"
   ]
  },
  {
   "cell_type": "code",
   "execution_count": 5,
   "id": "34d6284a",
   "metadata": {},
   "outputs": [
    {
     "name": "stdout",
     "output_type": "stream",
     "text": [
      "Downloading data from https://storage.googleapis.com/tensorflow/tf-keras-datasets/train-labels-idx1-ubyte.gz\n",
      "32768/29515 [=================================] - 0s 1us/step\n",
      "40960/29515 [=========================================] - 0s 1us/step\n",
      "Downloading data from https://storage.googleapis.com/tensorflow/tf-keras-datasets/train-images-idx3-ubyte.gz\n",
      "26427392/26421880 [==============================] - 23s 1us/step\n",
      "26435584/26421880 [==============================] - 23s 1us/step\n",
      "Downloading data from https://storage.googleapis.com/tensorflow/tf-keras-datasets/t10k-labels-idx1-ubyte.gz\n",
      "16384/5148 [===============================================================================================] - 0s 0us/step\n",
      "Downloading data from https://storage.googleapis.com/tensorflow/tf-keras-datasets/t10k-images-idx3-ubyte.gz\n",
      "4423680/4422102 [==============================] - 4s 1us/step\n",
      "4431872/4422102 [==============================] - 4s 1us/step\n"
     ]
    }
   ],
   "source": [
    "dataset = tf.keras.datasets.fashion_mnist.load_data()"
   ]
  },
  {
   "cell_type": "code",
   "execution_count": 6,
   "id": "f52b108e",
   "metadata": {},
   "outputs": [],
   "source": [
    "(train_images, train_labels), (test_images, test_labels) = dataset"
   ]
  },
  {
   "cell_type": "code",
   "execution_count": 9,
   "id": "032a7070",
   "metadata": {},
   "outputs": [
    {
     "name": "stdout",
     "output_type": "stream",
     "text": [
      "Training data inputs shape  :  (60000, 28, 28)\n",
      "Training data targets shape :  (60000,)\n",
      "Testing data inputs shape   :  (10000, 28, 28)\n",
      "Testing data targets shape  :  (10000,)\n"
     ]
    }
   ],
   "source": [
    "print(\"Training data inputs shape  : \", train_images.shape)\n",
    "print(\"Training data targets shape : \", train_labels.shape)\n",
    "print(\"Testing data inputs shape   : \", test_images.shape)\n",
    "print(\"Testing data targets shape  : \", test_labels.shape)"
   ]
  },
  {
   "cell_type": "code",
   "execution_count": 28,
   "id": "ed6e2deb",
   "metadata": {},
   "outputs": [],
   "source": [
    "# Scaling train and test inputs for a range of 0 to 1 by dividing by 255 (scalar)\n",
    "train_images_scaled = train_images / 255.0\n",
    "test_images_scaled = test_images / 255.0"
   ]
  },
  {
   "cell_type": "code",
   "execution_count": 26,
   "id": "05521ab9",
   "metadata": {},
   "outputs": [
    {
     "name": "stdout",
     "output_type": "stream",
     "text": [
      "Maximum value :  1.0\n",
      "Minimum value :  0.0\n"
     ]
    }
   ],
   "source": [
    "# Confirming maximum and minimum value in dataset\n",
    "max_val = max([np.max(train_images_scaled), np.max(train_images_scaled)])\n",
    "min_val = max([np.min(test_images_scaled), np.min(test_images_scaled)])\n",
    "print(\"Maximum value : \", max_val)\n",
    "print(\"Minimum value : \", min_val)"
   ]
  },
  {
   "cell_type": "code",
   "execution_count": 29,
   "id": "f1fdbd9c",
   "metadata": {},
   "outputs": [],
   "source": [
    "train_images_reshaped = np.expand_dims(train_images_scaled, axis=3)\n",
    "test_images_reshaped = np.expand_dims(test_images_scaled, axis=3)"
   ]
  },
  {
   "cell_type": "code",
   "execution_count": 30,
   "id": "57bebd05",
   "metadata": {},
   "outputs": [
    {
     "name": "stdout",
     "output_type": "stream",
     "text": [
      "Reshaped training images :  (60000, 28, 28, 1)\n",
      "Reshaped testing images  :  (10000, 28, 28, 1)\n"
     ]
    }
   ],
   "source": [
    "print(\"Reshaped training images : \", train_images_reshaped.shape)\n",
    "print(\"Reshaped testing images  : \", test_images_reshaped.shape)"
   ]
  },
  {
   "cell_type": "code",
   "execution_count": 36,
   "id": "ffc41fdb",
   "metadata": {},
   "outputs": [],
   "source": [
    "# Defining constants\n",
    "EPOCHS = 20\n",
    "BATCH_SIZE = 64"
   ]
  },
  {
   "cell_type": "code",
   "execution_count": 31,
   "id": "27a7d5f1",
   "metadata": {},
   "outputs": [
    {
     "name": "stderr",
     "output_type": "stream",
     "text": [
      "2022-10-18 14:02:44.097131: I tensorflow/stream_executor/cuda/cuda_gpu_executor.cc:939] successful NUMA node read from SysFS had negative value (-1), but there must be at least one NUMA node, so returning NUMA node zero\n",
      "2022-10-18 14:02:45.180595: I tensorflow/stream_executor/cuda/cuda_gpu_executor.cc:939] successful NUMA node read from SysFS had negative value (-1), but there must be at least one NUMA node, so returning NUMA node zero\n",
      "2022-10-18 14:02:45.180969: I tensorflow/stream_executor/cuda/cuda_gpu_executor.cc:939] successful NUMA node read from SysFS had negative value (-1), but there must be at least one NUMA node, so returning NUMA node zero\n",
      "2022-10-18 14:02:45.204855: I tensorflow/core/platform/cpu_feature_guard.cc:151] This TensorFlow binary is optimized with oneAPI Deep Neural Network Library (oneDNN) to use the following CPU instructions in performance-critical operations:  AVX2 FMA\n",
      "To enable them in other operations, rebuild TensorFlow with the appropriate compiler flags.\n",
      "2022-10-18 14:02:45.206289: I tensorflow/stream_executor/cuda/cuda_gpu_executor.cc:939] successful NUMA node read from SysFS had negative value (-1), but there must be at least one NUMA node, so returning NUMA node zero\n",
      "2022-10-18 14:02:45.206689: I tensorflow/stream_executor/cuda/cuda_gpu_executor.cc:939] successful NUMA node read from SysFS had negative value (-1), but there must be at least one NUMA node, so returning NUMA node zero\n",
      "2022-10-18 14:02:45.206851: I tensorflow/stream_executor/cuda/cuda_gpu_executor.cc:939] successful NUMA node read from SysFS had negative value (-1), but there must be at least one NUMA node, so returning NUMA node zero\n",
      "2022-10-18 14:02:49.913133: I tensorflow/stream_executor/cuda/cuda_gpu_executor.cc:939] successful NUMA node read from SysFS had negative value (-1), but there must be at least one NUMA node, so returning NUMA node zero\n",
      "2022-10-18 14:02:49.913353: I tensorflow/stream_executor/cuda/cuda_gpu_executor.cc:939] successful NUMA node read from SysFS had negative value (-1), but there must be at least one NUMA node, so returning NUMA node zero\n",
      "2022-10-18 14:02:49.913523: I tensorflow/stream_executor/cuda/cuda_gpu_executor.cc:939] successful NUMA node read from SysFS had negative value (-1), but there must be at least one NUMA node, so returning NUMA node zero\n",
      "2022-10-18 14:02:49.919396: I tensorflow/core/common_runtime/gpu/gpu_device.cc:1525] Created device /job:localhost/replica:0/task:0/device:GPU:0 with 2636 MB memory:  -> device: 0, name: NVIDIA GeForce GTX 1650, pci bus id: 0000:01:00.0, compute capability: 7.5\n"
     ]
    }
   ],
   "source": [
    "# Defining model Structure\n",
    "model = tf.keras.models.Sequential([\n",
    "    tfl.Conv2D(filters=16, kernel_size=(3,3), input_shape=[28,28,1], padding=\"same\", activation='relu'),    \n",
    "    tf.keras.layers.MaxPool2D(pool_size=2, strides=2, padding=\"valid\"),\n",
    "    tf.keras.layers.Conv2D(filters=32, kernel_size=(3,3), padding=\"same\", activation='relu'),\n",
    "    tf.keras.layers.MaxPool2D(pool_size=2, strides=2, padding=\"valid\"),\n",
    "    tf.keras.layers.Flatten(),\n",
    "    tf.keras.layers.Dense(units=120, activation='relu'),    \n",
    "    tf.keras.layers.Dense(10, activation='softmax')\n",
    "])"
   ]
  },
  {
   "cell_type": "code",
   "execution_count": 34,
   "id": "eb4b160e",
   "metadata": {},
   "outputs": [],
   "source": [
    "# Compiling model \n",
    "model.compile(\n",
    "    optimizer='sgd',                          # Stochastic Gradient Descent Optimizer\n",
    "    metrics=['accuracy'],                     # Track accuracy while training\n",
    "    loss='sparse_categorical_crossentropy'    # Defining loss function\n",
    ")"
   ]
  },
  {
   "cell_type": "code",
   "execution_count": 35,
   "id": "77d47e94",
   "metadata": {},
   "outputs": [
    {
     "name": "stdout",
     "output_type": "stream",
     "text": [
      "Model: \"sequential\"\n",
      "_________________________________________________________________\n",
      " Layer (type)                Output Shape              Param #   \n",
      "=================================================================\n",
      " conv2d (Conv2D)             (None, 28, 28, 16)        160       \n",
      "                                                                 \n",
      " max_pooling2d (MaxPooling2D  (None, 14, 14, 16)       0         \n",
      " )                                                               \n",
      "                                                                 \n",
      " conv2d_1 (Conv2D)           (None, 14, 14, 32)        4640      \n",
      "                                                                 \n",
      " max_pooling2d_1 (MaxPooling  (None, 7, 7, 32)         0         \n",
      " 2D)                                                             \n",
      "                                                                 \n",
      " flatten (Flatten)           (None, 1568)              0         \n",
      "                                                                 \n",
      " dense (Dense)               (None, 120)               188280    \n",
      "                                                                 \n",
      " dense_1 (Dense)             (None, 10)                1210      \n",
      "                                                                 \n",
      "=================================================================\n",
      "Total params: 194,290\n",
      "Trainable params: 194,290\n",
      "Non-trainable params: 0\n",
      "_________________________________________________________________\n"
     ]
    }
   ],
   "source": [
    "model.summary()"
   ]
  },
  {
   "cell_type": "code",
   "execution_count": 37,
   "id": "474399d7",
   "metadata": {},
   "outputs": [
    {
     "name": "stderr",
     "output_type": "stream",
     "text": [
      "2022-10-18 14:03:35.235399: W tensorflow/core/framework/cpu_allocator_impl.cc:82] Allocation of 188160000 exceeds 10% of free system memory.\n",
      "2022-10-18 14:03:35.634471: W tensorflow/core/framework/cpu_allocator_impl.cc:82] Allocation of 188160000 exceeds 10% of free system memory.\n"
     ]
    },
    {
     "name": "stdout",
     "output_type": "stream",
     "text": [
      "Epoch 1/20\n"
     ]
    },
    {
     "name": "stderr",
     "output_type": "stream",
     "text": [
      "2022-10-18 14:03:46.429937: I tensorflow/stream_executor/cuda/cuda_dnn.cc:366] Loaded cuDNN version 8301\n"
     ]
    },
    {
     "name": "stdout",
     "output_type": "stream",
     "text": [
      "938/938 [==============================] - 32s 3ms/step - loss: 0.9440 - accuracy: 0.6664\n",
      "Epoch 2/20\n",
      "938/938 [==============================] - 2s 2ms/step - loss: 0.5735 - accuracy: 0.7925\n",
      "Epoch 3/20\n",
      "938/938 [==============================] - 2s 2ms/step - loss: 0.4913 - accuracy: 0.8218\n",
      "Epoch 4/20\n",
      "938/938 [==============================] - 2s 2ms/step - loss: 0.4428 - accuracy: 0.8418\n",
      "Epoch 5/20\n",
      "938/938 [==============================] - 2s 2ms/step - loss: 0.4106 - accuracy: 0.8538\n",
      "Epoch 6/20\n",
      "938/938 [==============================] - 2s 2ms/step - loss: 0.3880 - accuracy: 0.8622\n",
      "Epoch 7/20\n",
      "938/938 [==============================] - 2s 2ms/step - loss: 0.3704 - accuracy: 0.8685\n",
      "Epoch 8/20\n",
      "938/938 [==============================] - 2s 2ms/step - loss: 0.3551 - accuracy: 0.8738\n",
      "Epoch 9/20\n",
      "938/938 [==============================] - 2s 2ms/step - loss: 0.3417 - accuracy: 0.8781\n",
      "Epoch 10/20\n",
      "938/938 [==============================] - 2s 2ms/step - loss: 0.3304 - accuracy: 0.8813\n",
      "Epoch 11/20\n",
      "938/938 [==============================] - 2s 2ms/step - loss: 0.3186 - accuracy: 0.8864\n",
      "Epoch 12/20\n",
      "938/938 [==============================] - 2s 2ms/step - loss: 0.3105 - accuracy: 0.8885\n",
      "Epoch 13/20\n",
      "938/938 [==============================] - 2s 2ms/step - loss: 0.3006 - accuracy: 0.8933\n",
      "Epoch 14/20\n",
      "938/938 [==============================] - 2s 3ms/step - loss: 0.2952 - accuracy: 0.8948\n",
      "Epoch 15/20\n",
      "938/938 [==============================] - 2s 2ms/step - loss: 0.2886 - accuracy: 0.8957\n",
      "Epoch 16/20\n",
      "938/938 [==============================] - 2s 2ms/step - loss: 0.2827 - accuracy: 0.8980\n",
      "Epoch 17/20\n",
      "938/938 [==============================] - 2s 2ms/step - loss: 0.2765 - accuracy: 0.9009\n",
      "Epoch 18/20\n",
      "938/938 [==============================] - 2s 2ms/step - loss: 0.2712 - accuracy: 0.9019\n",
      "Epoch 19/20\n",
      "938/938 [==============================] - 2s 2ms/step - loss: 0.2663 - accuracy: 0.9044\n",
      "Epoch 20/20\n",
      "938/938 [==============================] - 2s 2ms/step - loss: 0.2615 - accuracy: 0.9060\n"
     ]
    }
   ],
   "source": [
    "history = model.fit(\n",
    "    x=train_images_reshaped, \n",
    "    y=train_labels,   \n",
    "    batch_size=BATCH_SIZE,\n",
    "    epochs=EPOCHS\n",
    ")"
   ]
  },
  {
   "cell_type": "code",
   "execution_count": 39,
   "id": "3296592f",
   "metadata": {},
   "outputs": [
    {
     "name": "stderr",
     "output_type": "stream",
     "text": [
      "2022-10-18 14:05:29.496001: W tensorflow/core/framework/cpu_allocator_impl.cc:82] Allocation of 31360000 exceeds 10% of free system memory.\n"
     ]
    },
    {
     "name": "stdout",
     "output_type": "stream",
     "text": [
      "\r\n",
      "  1/157 [..............................] - ETA: 20s - loss: 0.3371 - accuracy: 0.8594"
     ]
    },
    {
     "name": "stderr",
     "output_type": "stream",
     "text": [
      "2022-10-18 14:05:30.298122: W tensorflow/core/framework/cpu_allocator_impl.cc:82] Allocation of 31360000 exceeds 10% of free system memory.\n"
     ]
    },
    {
     "name": "stdout",
     "output_type": "stream",
     "text": [
      "157/157 [==============================] - 1s 3ms/step - loss: 0.2983 - accuracy: 0.8957\n"
     ]
    }
   ],
   "source": [
    "results = model.evaluate(test_images_reshaped, test_labels, batch_size=BATCH_SIZE)"
   ]
  },
  {
   "cell_type": "code",
   "execution_count": 40,
   "id": "43eab116",
   "metadata": {},
   "outputs": [],
   "source": [
    "test_loss, test_accuracy = results"
   ]
  },
  {
   "cell_type": "code",
   "execution_count": 41,
   "id": "f3b92d2f",
   "metadata": {},
   "outputs": [
    {
     "name": "stdout",
     "output_type": "stream",
     "text": [
      "Testing accuracy :  89.56999778747559 %\n"
     ]
    }
   ],
   "source": [
    "print(\"Testing accuracy : \", test_accuracy*100, \"%\")"
   ]
  },
  {
   "cell_type": "code",
   "execution_count": 43,
   "id": "c8a7a55b",
   "metadata": {},
   "outputs": [
    {
     "data": {
      "image/png": "[encoded data removed]",
      "text/plain": [
       "<Figure size 1500x1500 with 1 Axes>"
      ]
     },
     "metadata": {},
     "output_type": "display_data"
    }
   ],
   "source": [
    "epochs = np.arange(1, 21)\n",
    "training_loss = history.history[\"loss\"]\n",
    "training_accuracy = history.history[\"accuracy\"]\n",
    "fig = plt.figure(figsize=(15, 15))\n",
    "ax = fig.add_subplot(111)\n",
    "ax.plot(epochs, training_loss,)\n",
    "ax.plot(epochs, training_accuracy)\n",
    "plt.show()"
   ]
  },
  {
   "cell_type": "code",
   "execution_count": 51,
   "id": "dfa7eedb",
   "metadata": {},
   "outputs": [],
   "source": [
    "predictions = model.predict(test_images_reshaped)"
   ]
  },
  {
   "cell_type": "code",
   "execution_count": 52,
   "id": "7fd3d186",
   "metadata": {},
   "outputs": [],
   "source": [
    "predictions_decoded = [np.argmax(i) for i in predictions]"
   ]
  },
  {
   "cell_type": "code",
   "execution_count": 54,
   "id": "50c45606",
   "metadata": {},
   "outputs": [],
   "source": [
    "report = classification_report(test_labels, predictions_decoded)"
   ]
  },
  {
   "cell_type": "code",
   "execution_count": 55,
   "id": "016351ea",
   "metadata": {},
   "outputs": [
    {
     "name": "stdout",
     "output_type": "stream",
     "text": [
      "              precision    recall  f1-score   support\n",
      "\n",
      "           0       0.82      0.87      0.84      1000\n",
      "           1       0.99      0.98      0.98      1000\n",
      "           2       0.88      0.79      0.83      1000\n",
      "           3       0.85      0.94      0.89      1000\n",
      "           4       0.81      0.84      0.83      1000\n",
      "           5       0.98      0.97      0.97      1000\n",
      "           6       0.75      0.69      0.72      1000\n",
      "           7       0.94      0.95      0.95      1000\n",
      "           8       0.98      0.97      0.98      1000\n",
      "           9       0.96      0.96      0.96      1000\n",
      "\n",
      "    accuracy                           0.90     10000\n",
      "   macro avg       0.90      0.90      0.89     10000\n",
      "weighted avg       0.90      0.90      0.89     10000\n",
      "\n"
     ]
    }
   ],
   "source": [
    "print(report)"
   ]
  }
 ],
 "metadata": {
  "kernelspec": {
   "display_name": "Python 3.10.5 64-bit",
   "language": "python",
   "name": "python3"
  },
  "language_info": {
   "codemirror_mode": {
    "name": "ipython",
    "version": 3
   },
   "file_extension": ".py",
   "mimetype": "text/x-python",
   "name": "python",
   "nbconvert_exporter": "python",
   "pygments_lexer": "ipython3",
   "version": "3.10.5"
  },
  "vscode": {
   "interpreter": {
    "hash": "81ccf3dca776907172787f2b502aba0fb6858f2c4c4214aa32c95bd3c8d05764"
   }
  }
 },
 "nbformat": 4,
 "nbformat_minor": 5
}
