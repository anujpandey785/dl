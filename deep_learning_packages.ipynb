{
 "cells": [
  {
   "cell_type": "markdown",
   "id": "95ab708b",
   "metadata": {},
   "source": [
    "<center><h1>Assignment 1</h1></center>\n",
    "\n",
    "## Problem statement\n",
    "Study of Deep learning Packages: Tensorflow, Keras, Theano and PyTorch.Document the distinct features and functionality of the packages.\n",
    "\n",
    "## Details\n",
    "1. Author : Varad Girish Mashalkar\n",
    "2. Branch : Information Technology\n",
    "3. Division : BE 11\n",
    "4. Batch : Q11\n",
    "5. Roll Number : 43335\n",
    "6. Course : Laboratory Practice 4 (Deep Learning)\n",
    "7. Assignment : 1\n",
    "\n",
    "## Implementation Details\n",
    "1. Python version : 3.7.0\n",
    "2. Tensorflow version : 2.7.0 (Compatible with CUDA11.5 and cuDNN8.6.0)\n",
    "\n",
    "## Imports\n",
    "1. tensorflow"
   ]
  },
  {
   "cell_type": "markdown",
   "id": "95e2a2e5",
   "metadata": {},
   "source": [
    "# 1. Tensorflow"
   ]
  },
  {
   "cell_type": "code",
   "execution_count": 3,
   "id": "d47ed740",
   "metadata": {},
   "outputs": [],
   "source": [
    "import numpy as np\n",
    "import tensorflow as tf\n",
    "from keras import datasets"
   ]
  },
  {
   "cell_type": "code",
   "execution_count": 2,
   "id": "3edfe36e",
   "metadata": {},
   "outputs": [
    {
     "name": "stdout",
     "output_type": "stream",
     "text": [
      "2.7.0\n"
     ]
    }
   ],
   "source": [
    "print(tf.__version__)"
   ]
  },
  {
   "cell_type": "markdown",
   "id": "2e492514",
   "metadata": {},
   "source": [
    "# 2.  Keras"
   ]
  },
  {
   "cell_type": "code",
   "execution_count": 7,
   "id": "a1ed9957",
   "metadata": {},
   "outputs": [],
   "source": [
    "# Load MNIST datasets from keras\n",
    "(train_images, train_labels), (test_images, test_labels) = datasets.mnist.load_data()"
   ]
  },
  {
   "cell_type": "markdown",
   "id": "18991532",
   "metadata": {},
   "source": [
    "## Check the loaded dataset"
   ]
  },
  {
   "cell_type": "code",
   "execution_count": 8,
   "id": "26d01106",
   "metadata": {},
   "outputs": [
    {
     "data": {
      "text/plain": [
       "(60000, 28, 28)"
      ]
     },
     "execution_count": 8,
     "metadata": {},
     "output_type": "execute_result"
    }
   ],
   "source": [
    "train_images.shape"
   ]
  },
  {
   "cell_type": "code",
   "execution_count": 9,
   "id": "f7800dea",
   "metadata": {},
   "outputs": [
    {
     "data": {
      "text/plain": [
       "(10000, 28, 28)"
      ]
     },
     "execution_count": 9,
     "metadata": {},
     "output_type": "execute_result"
    }
   ],
   "source": [
    "test_images.shape"
   ]
  },
  {
   "cell_type": "markdown",
   "id": "1d99a4c0",
   "metadata": {},
   "source": [
    "# 3. Theano"
   ]
  },
  {
   "cell_type": "code",
   "execution_count": 10,
   "id": "dd677eb6",
   "metadata": {},
   "outputs": [
    {
     "name": "stdout",
     "output_type": "stream",
     "text": [
      "Collecting Theano\n",
      "  Downloading Theano-1.0.5.tar.gz (2.8 MB)\n",
      "\u001b[2K     \u001b[38;2;114;156;31m━━━━━━━━━━━━━━━━━━━━━━━━━━━━━━━━━━━━━━━━\u001b[0m \u001b[32m2.8/2.8 MB\u001b[0m \u001b[31m8.3 MB/s\u001b[0m eta \u001b[36m0:00:00\u001b[0m0m eta \u001b[36m0:00:01\u001b[0m[36m0:00:01\u001b[0m\n",
      "\u001b[?25h  Preparing metadata (setup.py) ... \u001b[?25ldone\n",
      "\u001b[?25hRequirement already satisfied: numpy>=1.9.1 in /home/varadmash/anaconda3/envs/python3.7_DL/lib/python3.7/site-packages (from Theano) (1.19.5)\n",
      "Collecting scipy>=0.14\n",
      "  Using cached scipy-1.7.3-cp37-cp37m-manylinux_2_12_x86_64.manylinux2010_x86_64.whl (38.1 MB)\n",
      "Requirement already satisfied: six>=1.9.0 in /home/varadmash/anaconda3/envs/python3.7_DL/lib/python3.7/site-packages (from Theano) (1.15.0)\n",
      "Building wheels for collected packages: Theano\n",
      "  Building wheel for Theano (setup.py) ... \u001b[?25ldone\n",
      "\u001b[?25h  Created wheel for Theano: filename=Theano-1.0.5-py3-none-any.whl size=2668109 sha256=be4700678b51cd5ff897d75b86306dd7349525f7632355bb8988845248c6d0b9\n",
      "  Stored in directory: /home/varadmash/.cache/pip/wheels/26/68/6f/745330367ce7822fe0cd863712858151f5723a0a5e322cc144\n",
      "Successfully built Theano\n",
      "Installing collected packages: scipy, Theano\n",
      "Successfully installed Theano-1.0.5 scipy-1.7.3\n"
     ]
    }
   ],
   "source": [
    "!pip install Theano"
   ]
  },
  {
   "cell_type": "code",
   "execution_count": 11,
   "id": "bec472e9",
   "metadata": {},
   "outputs": [],
   "source": [
    "import theano.tensor as T\n",
    "from theano import function"
   ]
  },
  {
   "cell_type": "code",
   "execution_count": 12,
   "id": "1348e686",
   "metadata": {},
   "outputs": [],
   "source": [
    "# Declaring 2 variables\n",
    "x = T.dscalar('x')\n",
    "y = T.dscalar('y')"
   ]
  },
  {
   "cell_type": "code",
   "execution_count": 13,
   "id": "57013fca",
   "metadata": {},
   "outputs": [],
   "source": [
    "# Summing up the 2 numbers\n",
    "z = x + y"
   ]
  },
  {
   "cell_type": "code",
   "execution_count": 14,
   "id": "d7817de4",
   "metadata": {},
   "outputs": [],
   "source": [
    "# Converting it to a callable object so that it takes matrix as parameters\n",
    "f = function([x, y], z)"
   ]
  },
  {
   "cell_type": "code",
   "execution_count": 15,
   "id": "85e22c98",
   "metadata": {},
   "outputs": [
    {
     "data": {
      "text/plain": [
       "array(12.)"
      ]
     },
     "execution_count": 15,
     "metadata": {},
     "output_type": "execute_result"
    }
   ],
   "source": [
    "f(5, 7)"
   ]
  },
  {
   "cell_type": "markdown",
   "id": "1d7e501b",
   "metadata": {},
   "source": [
    "# 4. PyTorch"
   ]
  },
  {
   "cell_type": "code",
   "execution_count": 16,
   "id": "febe4505",
   "metadata": {},
   "outputs": [
    {
     "name": "stdout",
     "output_type": "stream",
     "text": [
      "Looking in indexes: https://pypi.org/simple, https://download.pytorch.org/whl/cu115\n",
      "Collecting torch\n",
      "  Downloading torch-1.12.1-cp37-cp37m-manylinux1_x86_64.whl (776.3 MB)\n",
      "\u001b[2K     \u001b[38;2;114;156;31m━━━━━━━━━━━━━━━━━━━━━━━━━━━━━━━━━━━━━━━━\u001b[0m \u001b[32m776.3/776.3 MB\u001b[0m \u001b[31m?\u001b[0m eta \u001b[36m0:00:00\u001b[0mB/s\u001b[0m eta \u001b[36m0:00:01\u001b[0m[36m0:00:02\u001b[0m\n",
      "\u001b[?25hCollecting torchvision\n",
      "  Downloading torchvision-0.13.1-cp37-cp37m-manylinux1_x86_64.whl (19.1 MB)\n",
      "\u001b[2K     \u001b[38;2;114;156;31m━━━━━━━━━━━━━━━━━━━━━━━━━━━━━━━━━━━━━━━━\u001b[0m \u001b[32m19.1/19.1 MB\u001b[0m \u001b[31m5.4 MB/s\u001b[0m eta \u001b[36m0:00:00\u001b[0m0m eta \u001b[36m0:00:01\u001b[0m0:01\u001b[0m:01\u001b[0m\n",
      "\u001b[?25hCollecting torchaudio\n",
      "  Downloading torchaudio-0.12.1-cp37-cp37m-manylinux1_x86_64.whl (3.7 MB)\n",
      "\u001b[2K     \u001b[38;2;114;156;31m━━━━━━━━━━━━━━━━━━━━━━━━━━━━━━━━━━━━━━━━\u001b[0m \u001b[32m3.7/3.7 MB\u001b[0m \u001b[31m4.8 MB/s\u001b[0m eta \u001b[36m0:00:00\u001b[0m0m eta \u001b[36m0:00:01\u001b[0m[36m0:00:01\u001b[0m\n",
      "\u001b[?25hRequirement already satisfied: typing-extensions in /home/varadmash/anaconda3/envs/python3.7_DL/lib/python3.7/site-packages (from torch) (4.3.0)\n",
      "Requirement already satisfied: requests in /home/varadmash/anaconda3/envs/python3.7_DL/lib/python3.7/site-packages (from torchvision) (2.28.1)\n",
      "Requirement already satisfied: numpy in /home/varadmash/anaconda3/envs/python3.7_DL/lib/python3.7/site-packages (from torchvision) (1.19.5)\n",
      "Requirement already satisfied: pillow!=8.3.*,>=5.3.0 in /home/varadmash/anaconda3/envs/python3.7_DL/lib/python3.7/site-packages (from torchvision) (9.2.0)\n",
      "Requirement already satisfied: urllib3<1.27,>=1.21.1 in /home/varadmash/anaconda3/envs/python3.7_DL/lib/python3.7/site-packages (from requests->torchvision) (1.26.12)\n",
      "Requirement already satisfied: charset-normalizer<3,>=2 in /home/varadmash/anaconda3/envs/python3.7_DL/lib/python3.7/site-packages (from requests->torchvision) (2.1.1)\n",
      "Requirement already satisfied: idna<4,>=2.5 in /home/varadmash/anaconda3/envs/python3.7_DL/lib/python3.7/site-packages (from requests->torchvision) (3.4)\n",
      "Requirement already satisfied: certifi>=2017.4.17 in /home/varadmash/anaconda3/envs/python3.7_DL/lib/python3.7/site-packages (from requests->torchvision) (2022.9.24)\n",
      "Installing collected packages: torch, torchvision, torchaudio\n",
      "Successfully installed torch-1.12.1 torchaudio-0.12.1 torchvision-0.13.1\n"
     ]
    }
   ],
   "source": [
    "!pip3 install torch torchvision torchaudio --extra-index-url https://download.pytorch.org/whl/cu115"
   ]
  },
  {
   "cell_type": "code",
   "execution_count": 17,
   "id": "bfa1e76f",
   "metadata": {},
   "outputs": [],
   "source": [
    "import torch\n",
    "import torch.nn as nn"
   ]
  },
  {
   "cell_type": "code",
   "execution_count": 18,
   "id": "0c257725",
   "metadata": {},
   "outputs": [
    {
     "name": "stdout",
     "output_type": "stream",
     "text": [
      "1.12.1+cu102\n"
     ]
    }
   ],
   "source": [
    "print(torch.__version__)"
   ]
  },
  {
   "cell_type": "code",
   "execution_count": 19,
   "id": "ae3cae69",
   "metadata": {},
   "outputs": [
    {
     "data": {
      "text/plain": [
       "True"
      ]
     },
     "execution_count": 19,
     "metadata": {},
     "output_type": "execute_result"
    }
   ],
   "source": [
    "torch.cuda.is_available()"
   ]
  },
  {
   "cell_type": "markdown",
   "id": "4fb87669",
   "metadata": {},
   "source": [
    "# Conclusion"
   ]
  },
  {
   "cell_type": "markdown",
   "id": "9c4db1a5",
   "metadata": {},
   "source": [
    "1. Tensorflow, Theano, PyTorch and Keras packages were installed in python environment"
   ]
  },
  {
   "cell_type": "markdown",
   "id": "9dd4550b",
   "metadata": {},
   "source": [
    "<center><h1>End of Assignment</h1></center>"
   ]
  }
 ],
 "metadata": {
  "kernelspec": {
   "display_name": "Python [conda env:python3.7_DL] *",
   "language": "python",
   "name": "conda-env-python3.7_DL-py"
  },
  "language_info": {
   "codemirror_mode": {
    "name": "ipython",
    "version": 3
   },
   "file_extension": ".py",
   "mimetype": "text/x-python",
   "name": "python",
   "nbconvert_exporter": "python",
   "pygments_lexer": "ipython3",
   "version": "3.7.0"
  }
 },
 "nbformat": 4,
 "nbformat_minor": 5
}
